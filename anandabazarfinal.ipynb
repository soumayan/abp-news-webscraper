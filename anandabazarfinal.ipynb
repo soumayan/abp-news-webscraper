{
 "cells": [
  {
   "cell_type": "code",
   "execution_count": 1,
   "metadata": {},
   "outputs": [],
   "source": [
    "from flask import Flask, render_template, request,jsonify\n",
    "# from flask_cors import CORS,cross_origin\n",
    "import requests\n",
    "from bs4 import BeautifulSoup as bs\n",
    "from urllib.request import urlopen as uReq\n",
    "import pymongo\n",
    "dbConn = pymongo.MongoClient(\"mongodb://localhost:27017/\")  # opening a connection to Mongo\n",
    "db = dbConn['crawlerDB'] # connecting to the database called crawlerDB\n",
    "table = db['ABP']\n",
    "\n",
    "for x in range(1,45):\n",
    "    abp_url=\"https://www.anandabazar.com/topic/coronavirus?page=\"+str(x)#string and int can concatenate only when we use str before int\n",
    "    uclient=uReq(abp_url)\n",
    "    abpPage=uclient.read()\n",
    "    uclient.close()\n",
    "    abp_html=bs(abpPage,\"html.parser\")\n",
    "    bigboxes=abp_html.find_all('div',{'class':\"col-lg-6 col-xs-12\"})\n",
    "    try:     \n",
    "        for box in bigboxes:\n",
    "            news_link= \"https:\"+box.div.a['href']\n",
    "            news_res=requests.get(news_link)\n",
    "            news_html=bs(news_res.text,\"html.parser\")\n",
    "            news_article=news_html.find('div',{'class':\"col-12 abp-storypage-articlebody abp-videoarticle-content\"})\n",
    "            final_news=news_article.p.text\n",
    "            output=news_article.find_all('p')\n",
    "            var=\"\"\n",
    "            for out in output:\n",
    "                var=var+out.text\n",
    "            mydict={\"news\":var}\n",
    "            table.insert_one(mydict)\n",
    "    except:\n",
    "        continue"
   ]
  },
  {
   "cell_type": "code",
   "execution_count": null,
   "metadata": {},
   "outputs": [],
   "source": []
  }
 ],
 "metadata": {
  "kernelspec": {
   "display_name": "Python 3",
   "language": "python",
   "name": "python3"
  },
  "language_info": {
   "codemirror_mode": {
    "name": "ipython",
    "version": 3
   },
   "file_extension": ".py",
   "mimetype": "text/x-python",
   "name": "python",
   "nbconvert_exporter": "python",
   "pygments_lexer": "ipython3",
   "version": "3.7.7"
  }
 },
 "nbformat": 4,
 "nbformat_minor": 4
}
