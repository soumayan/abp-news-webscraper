{
 "cells": [
  {
   "cell_type": "code",
   "execution_count": 1,
   "metadata": {},
   "outputs": [],
   "source": [
    "from flask import Flask, render_template, request,jsonify\n",
    "# from flask_cors import CORS,cross_origin\n",
    "import requests\n",
    "from bs4 import BeautifulSoup as bs\n",
    "from urllib.request import Request,urlopen as uReq\n",
    "import pymongo\n",
    "dbConn = pymongo.MongoClient(\"mongodb://localhost:27017/\")  # opening a connection to Mongo\n",
    "db = dbConn['crawlerDB'] # connecting to the database called crawlerDB\n",
    "table = db['TELEGRAPH']\n",
    "app = Flask(__name__)  # initialising the flask app with the name 'app'\n",
    "for x in range(1,100):\n",
    "    tg_url=\"https://www.telegraphindia.com/search/coronavirus?&page=\"+str(x)\n",
    "    #req=Request(tg_url, headers={'User-Agent': 'Mozilla/5.0'})\n",
    "    uclient=uReq(tg_url)\n",
    "    tgPage=uclient.read()\n",
    "    uclient.close()\n",
    "    tg_html=bs(tgPage,\"html.parser\")\n",
    "    before=tg_html.find('ul',{'class':\"listing-withImage\"})\n",
    "    bigboxes=before.find_all('li')\n",
    "    try:\n",
    "        for box in bigboxes:\n",
    "                news_link= \"https://www.telegraphindia.com\"+box.h3.a['href']\n",
    "                news_res=requests.get(news_link)\n",
    "                news_html=bs(news_res.text,\"html.parser\")\n",
    "                news_article=news_html.find('div',{'class':\"padiingDetails story-advertise\"})\n",
    "                final_news=news_article.find_all('p')\n",
    "                var=\"\"\n",
    "                for out in final_news:\n",
    "                    var=var+out.text\n",
    "                mydict={\"news\":var}\n",
    "                table.insert_one(mydict) \n",
    "    except:\n",
    "        continue"
   ]
  },
  {
   "cell_type": "code",
   "execution_count": null,
   "metadata": {},
   "outputs": [],
   "source": []
  },
  {
   "cell_type": "code",
   "execution_count": 11,
   "metadata": {},
   "outputs": [],
   "source": []
  },
  {
   "cell_type": "code",
   "execution_count": 12,
   "metadata": {},
   "outputs": [],
   "source": []
  },
  {
   "cell_type": "code",
   "execution_count": 13,
   "metadata": {},
   "outputs": [],
   "source": []
  },
  {
   "cell_type": "code",
   "execution_count": 14,
   "metadata": {},
   "outputs": [],
   "source": []
  },
  {
   "cell_type": "code",
   "execution_count": 15,
   "metadata": {},
   "outputs": [],
   "source": []
  },
  {
   "cell_type": "code",
   "execution_count": 2,
   "metadata": {},
   "outputs": [
    {
     "data": {
      "text/plain": [
       "6"
      ]
     },
     "execution_count": 2,
     "metadata": {},
     "output_type": "execute_result"
    }
   ],
   "source": [
    "len(bigboxes)"
   ]
  },
  {
   "cell_type": "code",
   "execution_count": 3,
   "metadata": {},
   "outputs": [],
   "source": []
  },
  {
   "cell_type": "code",
   "execution_count": 4,
   "metadata": {},
   "outputs": [
    {
     "name": "stdout",
     "output_type": "stream",
     "text": [
      "https://www.telegraphindia.com/world/coronavirus-united-states-begins-stockpiling-malaria-medicine-for-treating-covid-19-patients/cid/1760805\n"
     ]
    }
   ],
   "source": [
    "print(news_link)"
   ]
  },
  {
   "cell_type": "code",
   "execution_count": 5,
   "metadata": {},
   "outputs": [],
   "source": []
  },
  {
   "cell_type": "code",
   "execution_count": 6,
   "metadata": {},
   "outputs": [],
   "source": []
  },
  {
   "cell_type": "code",
   "execution_count": 7,
   "metadata": {},
   "outputs": [
    {
     "data": {
      "text/plain": [
       "19"
      ]
     },
     "execution_count": 7,
     "metadata": {},
     "output_type": "execute_result"
    }
   ],
   "source": [
    "len(final_news)"
   ]
  },
  {
   "cell_type": "code",
   "execution_count": 8,
   "metadata": {},
   "outputs": [
    {
     "name": "stdout",
     "output_type": "stream",
     "text": [
      "The US has started procuring malaria medicine 'Hydroxychloroquine' for treating COVID-19 patients as it anticipates a favourable result from its ongoing treatment of some 1,100 coronavirus infected people in New York.\n",
      "Pharmaceutical company Sandoz has donated 30 million doses of Hydroxychloroquine to the US government, president Donald Trump told reporters.\n",
      "Bayer has donated one million doses of the chloroquine which will soon be distributed to states and health officials around the country, he said, adding that Teva Pharmaceuticals is also donating six million doses to US hospitals.\n",
      "A day earlier, Trump said that malaria medicine Hydroxychloroquine is being administered to 1,100 coronavirus patients in New York, exuding confidence that the drug, touted as a \"game-changer\" by him, might give some incredible results in the fight against the disease that has infected over 163,000 people in the country.\n",
      "It is being tested out on the COVID-19 patients in New York on an experimental basis, hoping that this will give a solution in the treatment against the novel coronavirus. Last week, Trump said that the drug could be a \"gift from god\".\n",
      "Trump said that the Food and Drug Administration (FDA) has also authorised the Battelle's N95 respirator mask sterilisation kits. Each machine now can disinfect 120,000 masks.\n",
      "The FDA issued an Emergency Use Authorisation to allow Hydroxychloroquine sulfate and chloroquine phosphate products donated to the Strategic National Stockpile (SNS) to be distributed and used for certain hospitalised patients with COVID-19.\n",
      "These drugs will be distributed from the SNS to states for doctors to prescribe to adolescent and adult patients hospitalised with COVID-19, as appropriate, when a clinical trial is not available or feasible, the FDA said.\n",
      "The EUA requires that fact sheets that provide important information about using chloroquine phosphate and Hydroxychloroquine sulfate in treating COVID-19 be made available to healthcare providers and patients, including the known risks and drug interactions.\n",
      "Meanwhile, the University of Washington on Monday said researchers are investigating whether Hydroxychloroquine, a commonly used anti-malarial and autoimmune-disease treatment, can prevent COVID-19.\n",
      "A multi-site clinical trial, led by the University of Washington School of Medicine in collaboration with New York University Grossman School of Medicine, aims to definitively determine whether Hydroxychloroquine can prevent transmission in people exposed to the virus, according to a statement.\n",
      "\"We currently don't know if Hydroxychloroquine works, but we will learn in as short a timeframe as possible what the outcome is,\" said principal investigator Ruanne Barnabas, associate professor of global health in the University of Washington schools of Medicine and Public Health.\n",
      "Her team is starting to enrol 2,000 participants referred by physicians in six sites who are close contacts of persons with confirmed or pending COVID-19 diagnoses. The trial is slated to run for eight weeks and, if all goes well, results are expected in summer.\n",
      "Currently, there is no proven way to prevent COVID-19 after being exposed, says Anna Bershteyn, assistant professor of population health at NYU and co-principal investigator on the study.\n",
      "\"If Hydroxychloroquine provides protection, then it could be an essential tool for fighting this pandemic. If it doesn't, then people should avoid unnecessary risks from taking the drug,\" Bershteyn said.\n",
      "The USD 9.5 million trial looking at post-exposure preventive therapy for COVID-19 is part of a USD 125 million initiative launched by the Bill & Melinda Gates Foundation, Wellcome Trust, and Mastercard to speed development and access to therapies against COVID-19.\n",
      "The three organisations are partners in the COVID-19 Therapeutics Accelerator. The Hydroxychloroquine trial is one of the three grants announced on Monday by the accelerator.\n",
      "Hydroxychloroquine is a medication that has been used since the early 1950s.\n",
      "\"It's used to prevent malaria and autoimmune diseases like rheumatoid arthritis and lupus. The medication is hypothesised to work by preventing the virus from entering the cell.\n"
     ]
    }
   ],
   "source": []
  },
  {
   "cell_type": "code",
   "execution_count": null,
   "metadata": {},
   "outputs": [],
   "source": []
  }
 ],
 "metadata": {
  "kernelspec": {
   "display_name": "Python 3",
   "language": "python",
   "name": "python3"
  },
  "language_info": {
   "codemirror_mode": {
    "name": "ipython",
    "version": 3
   },
   "file_extension": ".py",
   "mimetype": "text/x-python",
   "name": "python",
   "nbconvert_exporter": "python",
   "pygments_lexer": "ipython3",
   "version": "3.7.7"
  }
 },
 "nbformat": 4,
 "nbformat_minor": 4
}
