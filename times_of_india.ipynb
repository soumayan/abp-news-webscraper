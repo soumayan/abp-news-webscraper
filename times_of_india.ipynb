{
 "cells": [
  {
   "cell_type": "code",
   "execution_count": 1,
   "metadata": {},
   "outputs": [
    {
     "ename": "ModuleNotFoundError",
     "evalue": "No module named 'pymongo'",
     "output_type": "error",
     "traceback": [
      "\u001b[1;31m---------------------------------------------------------------------------\u001b[0m",
      "\u001b[1;31mModuleNotFoundError\u001b[0m                       Traceback (most recent call last)",
      "\u001b[1;32m<ipython-input-1-a879bb3fe35d>\u001b[0m in \u001b[0;36m<module>\u001b[1;34m\u001b[0m\n\u001b[0;32m      4\u001b[0m \u001b[1;32mfrom\u001b[0m \u001b[0mbs4\u001b[0m \u001b[1;32mimport\u001b[0m \u001b[0mBeautifulSoup\u001b[0m \u001b[1;32mas\u001b[0m \u001b[0mbs\u001b[0m\u001b[1;33m\u001b[0m\u001b[1;33m\u001b[0m\u001b[0m\n\u001b[0;32m      5\u001b[0m \u001b[1;32mfrom\u001b[0m \u001b[0murllib\u001b[0m\u001b[1;33m.\u001b[0m\u001b[0mrequest\u001b[0m \u001b[1;32mimport\u001b[0m \u001b[0murlopen\u001b[0m \u001b[1;32mas\u001b[0m \u001b[0muReq\u001b[0m\u001b[1;33m\u001b[0m\u001b[1;33m\u001b[0m\u001b[0m\n\u001b[1;32m----> 6\u001b[1;33m \u001b[1;32mimport\u001b[0m \u001b[0mpymongo\u001b[0m\u001b[1;33m\u001b[0m\u001b[1;33m\u001b[0m\u001b[0m\n\u001b[0m\u001b[0;32m      7\u001b[0m \u001b[0mapp\u001b[0m \u001b[1;33m=\u001b[0m \u001b[0mFlask\u001b[0m\u001b[1;33m(\u001b[0m\u001b[0m__name__\u001b[0m\u001b[1;33m)\u001b[0m  \u001b[1;31m# initialising the flask app with the name 'app'\u001b[0m\u001b[1;33m\u001b[0m\u001b[1;33m\u001b[0m\u001b[0m\n\u001b[0;32m      8\u001b[0m \u001b[0mdbConn\u001b[0m \u001b[1;33m=\u001b[0m \u001b[0mpymongo\u001b[0m\u001b[1;33m.\u001b[0m\u001b[0mMongoClient\u001b[0m\u001b[1;33m(\u001b[0m\u001b[1;34m\"mongodb://localhost:27017/\"\u001b[0m\u001b[1;33m)\u001b[0m  \u001b[1;31m# opening a connection to Mongo\u001b[0m\u001b[1;33m\u001b[0m\u001b[1;33m\u001b[0m\u001b[0m\n",
      "\u001b[1;31mModuleNotFoundError\u001b[0m: No module named 'pymongo'"
     ]
    }
   ],
   "source": [
    "from flask import Flask, render_template, request,jsonify\n",
    "# from flask_cors import CORS,cross_origin\n",
    "import requests\n",
    "from bs4 import BeautifulSoup as bs\n",
    "from urllib.request import urlopen as uReq\n",
    "import pymongo\n",
    "app = Flask(__name__)  # initialising the flask app with the name 'app'\n",
    "dbConn = pymongo.MongoClient(\"mongodb://localhost:27017/\")  # opening a connection to Mongo\n",
    "db = dbConn['crawlerDB'] # connecting to the database called crawlerDB\n",
    "table = db['TOI']\n",
    "for x in range(1,4):\n",
    "    toi_url=\"https://timesofindia.indiatimes.com/topic/Coronavirus-India/\"+str(x)\n",
    "    uclient=uReq(toi_url)\n",
    "    toiPage=uclient.read()\n",
    "    uclient.close()\n",
    "    toi_html=bs(toiPage,\"html.parser\")\n",
    "    bigboxes=toi_html.find_all('li',{'itemtype':\"http://schema.org/ListItem\"})\n",
    "    try:\n",
    "        for box in bigboxes:\n",
    "            news_link= \"https://timesofindia.indiatimes.com\"+box.div.a['href']\n",
    "            news_res=requests.get(news_link)\n",
    "            news_html=bs(news_res.text,\"html.parser\")\n",
    "            news_article=news_html.find('div',{'class':\"_3WlLe clearfix\"})\n",
    "            final_news=news_article.text\n",
    "            mydict={\"news\":final_news}\n",
    "            table.insert_one(mydict)\n",
    "    except:\n",
    "        continue"
   ]
  },
  {
   "cell_type": "code",
   "execution_count": 13,
   "metadata": {},
   "outputs": [],
   "source": []
  },
  {
   "cell_type": "code",
   "execution_count": 20,
   "metadata": {},
   "outputs": [],
   "source": []
  },
  {
   "cell_type": "code",
   "execution_count": 21,
   "metadata": {},
   "outputs": [],
   "source": []
  },
  {
   "cell_type": "code",
   "execution_count": 22,
   "metadata": {},
   "outputs": [],
   "source": []
  },
  {
   "cell_type": "code",
   "execution_count": 23,
   "metadata": {},
   "outputs": [],
   "source": []
  },
  {
   "cell_type": "code",
   "execution_count": 24,
   "metadata": {},
   "outputs": [],
   "source": []
  },
  {
   "cell_type": "code",
   "execution_count": 25,
   "metadata": {},
   "outputs": [
    {
     "data": {
      "text/plain": [
       "20"
      ]
     },
     "execution_count": 25,
     "metadata": {},
     "output_type": "execute_result"
    }
   ],
   "source": [
    "len(bigboxes)"
   ]
  },
  {
   "cell_type": "code",
   "execution_count": 26,
   "metadata": {},
   "outputs": [],
   "source": [
    "box=bigboxes[0]\n"
   ]
  },
  {
   "cell_type": "code",
   "execution_count": 27,
   "metadata": {},
   "outputs": [
    {
     "name": "stdout",
     "output_type": "stream",
     "text": [
      "https://timesofindia.indiatimes.com/india/india-has-30-days-to-halt-onset-of-stage-iii-says-icmr-dg/articleshow/74620277.cms\n"
     ]
    }
   ],
   "source": [
    "print(news_link)"
   ]
  },
  {
   "cell_type": "code",
   "execution_count": 28,
   "metadata": {},
   "outputs": [],
   "source": [
    "\n"
   ]
  },
  {
   "cell_type": "code",
   "execution_count": 29,
   "metadata": {},
   "outputs": [],
   "source": [
    "\n"
   ]
  },
  {
   "cell_type": "code",
   "execution_count": 30,
   "metadata": {},
   "outputs": [
    {
     "name": "stdout",
     "output_type": "stream",
     "text": [
      "NEW DELHI: India is in stage II of the Covid-19 outbreak - where disease transmission is limited to those with travel history to the affected countries and others in contact with the infected persons - and government's efforts are geared towards halting or at least delaying the progression to the next stage, Indian Council of Medical Research director-general Balram Bhargava said.  The progression to the next stage may eventually happen but by delaying it India is making itself better prepared to localise and contain the situation, Dr Bhargava said. \"India has around a 30-day window to halt the beginning of community transmission of Covid-19 cases. The time to act is now,\" he said. In stage III, the virus starts spreading through the community. This is followed by stage IV, when the disease takes the shape of an epidemic, when the ongoing transmission has no clear endpoint. China and Italy are in stage VI of the Covid-19 outbreak. Bhargava said the government is taking all possible containment measures to halt, or at least delay, the progression of the outbreak to stage III. Dr R R Gangakhedkar, the chief epidemiologist at ICMR, said only those with symptoms of Covid-19 were being tested as present. \"Everyone with flu symptoms doesn't need to get tested because the spread of the disease is limited at present. Even among those with travel history or possible contact with an infected individual, testing is advised only if he or she has symptoms of Covid-19. This is because if the test is conducted in asymptomatic individual the viral load is likely to be less and that may result in false negative results. Such individual may get a false sense of security and continue to spread the disease,\" he said. ICMR scientists said the advisory on testing may be changed if there is enough evidence of Covid-19 reaching stage III. Coronavirus outbreak: Complete coverage\"At ICMR, we have a network of 106 virus research and diagnostic laboratories (VRDLs) across the country. We get samples of influenza like illnesses (ILIs) and severe acute respiratory infection (SARI) regularly. Between February 15 and February 29, we asked 13 of these labs to take 20 random samples and test them for Covid-19 to see if the novel coronavirus had spread in the community as well. All samples tested negative. The exercise will be repeated on March 15 to assess whether community transmission is happening or not. Depending on the findings, further action will be taken on guidelines for testing,\" the ICMR chief said. Coronavirus outbreak live updatesBut does India have enough testing kits to scale up diagnosis if Covid-19 spreads exponentially, affecting communities or takes to epidemic proportions? Bhargava said in terms of testing capacity the available labs are underutilised at present. \"The 51 labs for designated for testing Covid-19 swab samples are capable of conducting 4,590 tests daily. At present, we are getting only about 60 to 70 samples per day. So, at present, the labs are heavily underutilised. In future, if the demand increases, we have made arrangements to ensure the lab network can expand soon enough to handle the situation,\" the ICMR director general said.  \"There are over 57 sample collection centres where this is being done at present. These can easily be expanded. For testing, we require two key chemical agents, the primer and the probe. Primer can be prepared locally while probes we have to buy. The ICMR lab network has one lakh probes available and additional two lakh probes are being procured. We have also been approached by major international companies who have prepared the tests kits and are willing to supply them too. Based on the validation of their claims for testing and the need, we will procure more chemical agents and kits to ensure that there is no dearth of testing facility,\" Bhargava said. ICMR experts said they were not thinking about private labs and hospitals for testing yet. \"We will think about that if and when the need arises,\" they said. India has conducted 6,500 tests of which, data shows, only 78 (1.4%) have been confirmed positive. \"We have also tested nearly a 1,000 people who were evacuated from China, Iran and Italy,\" said an ICMR official, adding that India was well-prepared for any situation. More on Covid-19  Coronavirus: What are the symptoms 52 testing sites for coronavirus in India Helpline numbers for states and UTs Do fever and cough mean you need Covid-19 test? How to stay safe How to quarantine yourself at home DownloadThe Times of India News App for Latest India NewsSubscribeStart Your Daily Mornings with Times of India Newspaper! Order Now\n"
     ]
    }
   ],
   "source": [
    "print(final_news)"
   ]
  },
  {
   "cell_type": "code",
   "execution_count": null,
   "metadata": {},
   "outputs": [],
   "source": []
  }
 ],
 "metadata": {
  "kernelspec": {
   "display_name": "Python 3",
   "language": "python",
   "name": "python3"
  },
  "language_info": {
   "codemirror_mode": {
    "name": "ipython",
    "version": 3
   },
   "file_extension": ".py",
   "mimetype": "text/x-python",
   "name": "python",
   "nbconvert_exporter": "python",
   "pygments_lexer": "ipython3",
   "version": "3.7.3"
  }
 },
 "nbformat": 4,
 "nbformat_minor": 4
}
